{
  "cells": [
    {
      "cell_type": "markdown",
      "metadata": {
        "id": "Fotxx6hcZhsW"
      },
      "source": [
        "# Text Preprocessing with NLTK and SpaCy\n",
        "Prepared by: `Pat Estrada`, `Ace Canacan Jr`"
      ]
    },
    {
      "cell_type": "markdown",
      "metadata": {
        "id": "LFCJOLyGZhsa"
      },
      "source": [
        "## Setup libraries and data loading\n",
        "\n",
        "Ensure you have the necessary libraries. Import and set up essential libraries:"
      ]
    },
    {
      "cell_type": "code",
      "execution_count": null,
      "metadata": {
        "id": "FJ1Jki82Zhsb"
      },
      "outputs": [],
      "source": [
        "# !pip install nltk spacy pandas matplotlib seaborn"
      ]
    },
    {
      "cell_type": "code",
      "execution_count": null,
      "metadata": {
        "id": "jw4vHvrkZhsd"
      },
      "outputs": [],
      "source": [
        "# !pip install --upgrade bottleneck"
      ]
    },
    {
      "cell_type": "code",
      "execution_count": null,
      "metadata": {
        "id": "uIQSAHbiZhse"
      },
      "outputs": [],
      "source": [
        "import pandas as pd"
      ]
    },
    {
      "cell_type": "code",
      "execution_count": null,
      "metadata": {
        "id": "b73S9qOrZhsf",
        "outputId": "95655dda-5fc7-4343-83c9-322e25d4fb35"
      },
      "outputs": [
        {
          "data": {
            "text/plain": [
              "(4857, 9)"
            ]
          },
          "execution_count": null,
          "metadata": {},
          "output_type": "execute_result"
        }
      ],
      "source": [
        "# load the dataset\n",
        "df = pd.read_csv('data/20-24-rappler-tech.csv')\n",
        "df.shape"
      ]
    },
    {
      "cell_type": "code",
      "execution_count": null,
      "metadata": {
        "id": "ZYcIMSIaZhsg",
        "outputId": "656f8104-f969-4cb1-c8a8-88bf92283543"
      },
      "outputs": [
        {
          "data": {
            "text/html": [
              "<div>\n",
              "<style scoped>\n",
              "    .dataframe tbody tr th:only-of-type {\n",
              "        vertical-align: middle;\n",
              "    }\n",
              "\n",
              "    .dataframe tbody tr th {\n",
              "        vertical-align: top;\n",
              "    }\n",
              "\n",
              "    .dataframe thead th {\n",
              "        text-align: right;\n",
              "    }\n",
              "</style>\n",
              "<table border=\"1\" class=\"dataframe\">\n",
              "  <thead>\n",
              "    <tr style=\"text-align: right;\">\n",
              "      <th></th>\n",
              "      <th>id</th>\n",
              "      <th>slug</th>\n",
              "      <th>title.rendered</th>\n",
              "      <th>content.rendered</th>\n",
              "      <th>excerpt.rendered</th>\n",
              "      <th>link</th>\n",
              "      <th>date</th>\n",
              "      <th>modified</th>\n",
              "      <th>categories</th>\n",
              "    </tr>\n",
              "  </thead>\n",
              "  <tbody>\n",
              "    <tr>\n",
              "      <th>0</th>\n",
              "      <td>2577999</td>\n",
              "      <td>sam-bankman-fried-not-face-second-trial</td>\n",
              "      <td>Sam Bankman-Fried will not face a second trial</td>\n",
              "      <td>\\n&lt;p&gt;NEW YORK, USA – US prosecutors said they ...</td>\n",
              "      <td>&lt;p&gt;Prosecutors say the &amp;#8216;strong public in...</td>\n",
              "      <td>https://www.rappler.com/technology/sam-bankman...</td>\n",
              "      <td>2023-12-30 11:00:00</td>\n",
              "      <td>2023-12-30 19:57:19</td>\n",
              "      <td>[732, 768, 761]</td>\n",
              "    </tr>\n",
              "    <tr>\n",
              "      <th>1</th>\n",
              "      <td>2577486</td>\n",
              "      <td>new-york-times-sues-openai-microsoft-copyright...</td>\n",
              "      <td>New York Times sues OpenAI, Microsoft for copy...</td>\n",
              "      <td>\\n&lt;p&gt;MANILA, Philippines – The New York Times ...</td>\n",
              "      <td>&lt;p&gt;The New York Times&amp;#8217; complaint says Op...</td>\n",
              "      <td>https://www.rappler.com/technology/new-york-ti...</td>\n",
              "      <td>2023-12-29 15:12:14</td>\n",
              "      <td>2023-12-29 15:12:24</td>\n",
              "      <td>[732]</td>\n",
              "    </tr>\n",
              "    <tr>\n",
              "      <th>2</th>\n",
              "      <td>2577484</td>\n",
              "      <td>twitter-x-fails-block-california-content-moder...</td>\n",
              "      <td>Elon Musk&amp;#8217;s X fails to block California&amp;...</td>\n",
              "      <td>\\n&lt;p&gt;Elon Musk&amp;#8217;s X on Thursday, December...</td>\n",
              "      <td>&lt;p&gt;The law requires social media companies wit...</td>\n",
              "      <td>https://www.rappler.com/technology/social-medi...</td>\n",
              "      <td>2023-12-29 14:16:24</td>\n",
              "      <td>2023-12-29 14:16:28</td>\n",
              "      <td>[740, 732]</td>\n",
              "    </tr>\n",
              "    <tr>\n",
              "      <th>3</th>\n",
              "      <td>2577149</td>\n",
              "      <td>xiaomi-unveils-first-electric-car-plans-become...</td>\n",
              "      <td>China&amp;#8217;s Xiaomi unveils first electric ca...</td>\n",
              "      <td>\\n&lt;p&gt;BEIJING, China – Chinese smartphone maker...</td>\n",
              "      <td>&lt;p&gt;The sedan, dubbed the SU7, is a highly anti...</td>\n",
              "      <td>https://www.rappler.com/technology/xiaomi-unve...</td>\n",
              "      <td>2023-12-28 16:59:26</td>\n",
              "      <td>2023-12-28 16:59:28</td>\n",
              "      <td>[732]</td>\n",
              "    </tr>\n",
              "    <tr>\n",
              "      <th>4</th>\n",
              "      <td>2576906</td>\n",
              "      <td>apple-can-temporarily-sell-smartwatches-after-...</td>\n",
              "      <td>Apple can temporarily sell smartwatches after ...</td>\n",
              "      <td>\\n&lt;p&gt;Apple can for now resume sales of its fla...</td>\n",
              "      <td>&lt;p&gt;Masimo has accused Apple of hiring away its...</td>\n",
              "      <td>https://www.rappler.com/technology/gadgets/app...</td>\n",
              "      <td>2023-12-28 09:53:24</td>\n",
              "      <td>2023-12-28 09:53:35</td>\n",
              "      <td>[738, 732]</td>\n",
              "    </tr>\n",
              "  </tbody>\n",
              "</table>\n",
              "</div>"
            ],
            "text/plain": [
              "        id                                               slug  \\\n",
              "0  2577999            sam-bankman-fried-not-face-second-trial   \n",
              "1  2577486  new-york-times-sues-openai-microsoft-copyright...   \n",
              "2  2577484  twitter-x-fails-block-california-content-moder...   \n",
              "3  2577149  xiaomi-unveils-first-electric-car-plans-become...   \n",
              "4  2576906  apple-can-temporarily-sell-smartwatches-after-...   \n",
              "\n",
              "                                      title.rendered  \\\n",
              "0     Sam Bankman-Fried will not face a second trial   \n",
              "1  New York Times sues OpenAI, Microsoft for copy...   \n",
              "2  Elon Musk&#8217;s X fails to block California&...   \n",
              "3  China&#8217;s Xiaomi unveils first electric ca...   \n",
              "4  Apple can temporarily sell smartwatches after ...   \n",
              "\n",
              "                                    content.rendered  \\\n",
              "0  \\n<p>NEW YORK, USA – US prosecutors said they ...   \n",
              "1  \\n<p>MANILA, Philippines – The New York Times ...   \n",
              "2  \\n<p>Elon Musk&#8217;s X on Thursday, December...   \n",
              "3  \\n<p>BEIJING, China – Chinese smartphone maker...   \n",
              "4  \\n<p>Apple can for now resume sales of its fla...   \n",
              "\n",
              "                                    excerpt.rendered  \\\n",
              "0  <p>Prosecutors say the &#8216;strong public in...   \n",
              "1  <p>The New York Times&#8217; complaint says Op...   \n",
              "2  <p>The law requires social media companies wit...   \n",
              "3  <p>The sedan, dubbed the SU7, is a highly anti...   \n",
              "4  <p>Masimo has accused Apple of hiring away its...   \n",
              "\n",
              "                                                link                 date  \\\n",
              "0  https://www.rappler.com/technology/sam-bankman...  2023-12-30 11:00:00   \n",
              "1  https://www.rappler.com/technology/new-york-ti...  2023-12-29 15:12:14   \n",
              "2  https://www.rappler.com/technology/social-medi...  2023-12-29 14:16:24   \n",
              "3  https://www.rappler.com/technology/xiaomi-unve...  2023-12-28 16:59:26   \n",
              "4  https://www.rappler.com/technology/gadgets/app...  2023-12-28 09:53:24   \n",
              "\n",
              "              modified       categories  \n",
              "0  2023-12-30 19:57:19  [732, 768, 761]  \n",
              "1  2023-12-29 15:12:24            [732]  \n",
              "2  2023-12-29 14:16:28       [740, 732]  \n",
              "3  2023-12-28 16:59:28            [732]  \n",
              "4  2023-12-28 09:53:35       [738, 732]  "
            ]
          },
          "execution_count": null,
          "metadata": {},
          "output_type": "execute_result"
        }
      ],
      "source": [
        "df.head()"
      ]
    },
    {
      "cell_type": "code",
      "execution_count": null,
      "metadata": {
        "id": "daKG6DmJZhsh"
      },
      "outputs": [],
      "source": [
        "# Make sure titles are in str dtype\n",
        "df['title.rendered'] = df['title.rendered'].astype(str)"
      ]
    },
    {
      "cell_type": "markdown",
      "metadata": {
        "id": "_IlnD2YCZhsi"
      },
      "source": [
        "## Text Preprocessing with NLTK"
      ]
    },
    {
      "cell_type": "code",
      "execution_count": null,
      "metadata": {
        "id": "aygKhQNZZhsj",
        "outputId": "c66b4253-f9d0-41a1-de81-c0cced3896e5"
      },
      "outputs": [
        {
          "name": "stderr",
          "output_type": "stream",
          "text": [
            "[nltk_data] Downloading package punkt to\n",
            "[nltk_data]     /Users/patrishaestrada/nltk_data...\n",
            "[nltk_data]   Package punkt is already up-to-date!\n",
            "[nltk_data] Downloading package stopwords to\n",
            "[nltk_data]     /Users/patrishaestrada/nltk_data...\n",
            "[nltk_data]   Unzipping corpora/stopwords.zip.\n",
            "[nltk_data] Downloading package wordnet to\n",
            "[nltk_data]     /Users/patrishaestrada/nltk_data...\n",
            "[nltk_data]   Package wordnet is already up-to-date!\n"
          ]
        },
        {
          "data": {
            "text/plain": [
              "True"
            ]
          },
          "execution_count": null,
          "metadata": {},
          "output_type": "execute_result"
        }
      ],
      "source": [
        "# Import libraries for nltk preprocessing\n",
        "import nltk\n",
        "from nltk.tokenize import word_tokenize\n",
        "from nltk.corpus import stopwords\n",
        "from nltk.stem import PorterStemmer, WordNetLemmatizer\n",
        "import string\n",
        "\n",
        "nltk.download('punkt') # Downloads the Punkt tokenizer models\n",
        "nltk.download('stopwords') # Downloads the list of stopwords\n",
        "nltk.download('wordnet') # Downloads the WordNet lemmatizer data"
      ]
    },
    {
      "cell_type": "markdown",
      "metadata": {
        "id": "1DnN8wC3Zhsk"
      },
      "source": [
        "### Tokenization\n",
        "\n",
        "Breaking the text into individual words."
      ]
    },
    {
      "cell_type": "code",
      "execution_count": null,
      "metadata": {
        "id": "nHNWKcDzZhsl",
        "outputId": "1a2b499e-38fa-4779-8d68-cd7bc583f76a"
      },
      "outputs": [
        {
          "data": {
            "text/html": [
              "<div>\n",
              "<style scoped>\n",
              "    .dataframe tbody tr th:only-of-type {\n",
              "        vertical-align: middle;\n",
              "    }\n",
              "\n",
              "    .dataframe tbody tr th {\n",
              "        vertical-align: top;\n",
              "    }\n",
              "\n",
              "    .dataframe thead th {\n",
              "        text-align: right;\n",
              "    }\n",
              "</style>\n",
              "<table border=\"1\" class=\"dataframe\">\n",
              "  <thead>\n",
              "    <tr style=\"text-align: right;\">\n",
              "      <th></th>\n",
              "      <th>id</th>\n",
              "      <th>slug</th>\n",
              "      <th>title.rendered</th>\n",
              "      <th>content.rendered</th>\n",
              "      <th>excerpt.rendered</th>\n",
              "      <th>link</th>\n",
              "      <th>date</th>\n",
              "      <th>modified</th>\n",
              "      <th>categories</th>\n",
              "      <th>tokens</th>\n",
              "    </tr>\n",
              "  </thead>\n",
              "  <tbody>\n",
              "    <tr>\n",
              "      <th>0</th>\n",
              "      <td>2577999</td>\n",
              "      <td>sam-bankman-fried-not-face-second-trial</td>\n",
              "      <td>Sam Bankman-Fried will not face a second trial</td>\n",
              "      <td>\\n&lt;p&gt;NEW YORK, USA – US prosecutors said they ...</td>\n",
              "      <td>&lt;p&gt;Prosecutors say the &amp;#8216;strong public in...</td>\n",
              "      <td>https://www.rappler.com/technology/sam-bankman...</td>\n",
              "      <td>2023-12-30 11:00:00</td>\n",
              "      <td>2023-12-30 19:57:19</td>\n",
              "      <td>[732, 768, 761]</td>\n",
              "      <td>[Sam, Bankman-Fried, will, not, face, a, secon...</td>\n",
              "    </tr>\n",
              "    <tr>\n",
              "      <th>1</th>\n",
              "      <td>2577486</td>\n",
              "      <td>new-york-times-sues-openai-microsoft-copyright...</td>\n",
              "      <td>New York Times sues OpenAI, Microsoft for copy...</td>\n",
              "      <td>\\n&lt;p&gt;MANILA, Philippines – The New York Times ...</td>\n",
              "      <td>&lt;p&gt;The New York Times&amp;#8217; complaint says Op...</td>\n",
              "      <td>https://www.rappler.com/technology/new-york-ti...</td>\n",
              "      <td>2023-12-29 15:12:14</td>\n",
              "      <td>2023-12-29 15:12:24</td>\n",
              "      <td>[732]</td>\n",
              "      <td>[New, York, Times, sues, OpenAI, ,, Microsoft,...</td>\n",
              "    </tr>\n",
              "    <tr>\n",
              "      <th>2</th>\n",
              "      <td>2577484</td>\n",
              "      <td>twitter-x-fails-block-california-content-moder...</td>\n",
              "      <td>Elon Musk&amp;#8217;s X fails to block California&amp;...</td>\n",
              "      <td>\\n&lt;p&gt;Elon Musk&amp;#8217;s X on Thursday, December...</td>\n",
              "      <td>&lt;p&gt;The law requires social media companies wit...</td>\n",
              "      <td>https://www.rappler.com/technology/social-medi...</td>\n",
              "      <td>2023-12-29 14:16:24</td>\n",
              "      <td>2023-12-29 14:16:28</td>\n",
              "      <td>[740, 732]</td>\n",
              "      <td>[Elon, Musk, &amp;, #, 8217, ;, s, X, fails, to, b...</td>\n",
              "    </tr>\n",
              "    <tr>\n",
              "      <th>3</th>\n",
              "      <td>2577149</td>\n",
              "      <td>xiaomi-unveils-first-electric-car-plans-become...</td>\n",
              "      <td>China&amp;#8217;s Xiaomi unveils first electric ca...</td>\n",
              "      <td>\\n&lt;p&gt;BEIJING, China – Chinese smartphone maker...</td>\n",
              "      <td>&lt;p&gt;The sedan, dubbed the SU7, is a highly anti...</td>\n",
              "      <td>https://www.rappler.com/technology/xiaomi-unve...</td>\n",
              "      <td>2023-12-28 16:59:26</td>\n",
              "      <td>2023-12-28 16:59:28</td>\n",
              "      <td>[732]</td>\n",
              "      <td>[China, &amp;, #, 8217, ;, s, Xiaomi, unveils, fir...</td>\n",
              "    </tr>\n",
              "    <tr>\n",
              "      <th>4</th>\n",
              "      <td>2576906</td>\n",
              "      <td>apple-can-temporarily-sell-smartwatches-after-...</td>\n",
              "      <td>Apple can temporarily sell smartwatches after ...</td>\n",
              "      <td>\\n&lt;p&gt;Apple can for now resume sales of its fla...</td>\n",
              "      <td>&lt;p&gt;Masimo has accused Apple of hiring away its...</td>\n",
              "      <td>https://www.rappler.com/technology/gadgets/app...</td>\n",
              "      <td>2023-12-28 09:53:24</td>\n",
              "      <td>2023-12-28 09:53:35</td>\n",
              "      <td>[738, 732]</td>\n",
              "      <td>[Apple, can, temporarily, sell, smartwatches, ...</td>\n",
              "    </tr>\n",
              "  </tbody>\n",
              "</table>\n",
              "</div>"
            ],
            "text/plain": [
              "        id                                               slug  \\\n",
              "0  2577999            sam-bankman-fried-not-face-second-trial   \n",
              "1  2577486  new-york-times-sues-openai-microsoft-copyright...   \n",
              "2  2577484  twitter-x-fails-block-california-content-moder...   \n",
              "3  2577149  xiaomi-unveils-first-electric-car-plans-become...   \n",
              "4  2576906  apple-can-temporarily-sell-smartwatches-after-...   \n",
              "\n",
              "                                      title.rendered  \\\n",
              "0     Sam Bankman-Fried will not face a second trial   \n",
              "1  New York Times sues OpenAI, Microsoft for copy...   \n",
              "2  Elon Musk&#8217;s X fails to block California&...   \n",
              "3  China&#8217;s Xiaomi unveils first electric ca...   \n",
              "4  Apple can temporarily sell smartwatches after ...   \n",
              "\n",
              "                                    content.rendered  \\\n",
              "0  \\n<p>NEW YORK, USA – US prosecutors said they ...   \n",
              "1  \\n<p>MANILA, Philippines – The New York Times ...   \n",
              "2  \\n<p>Elon Musk&#8217;s X on Thursday, December...   \n",
              "3  \\n<p>BEIJING, China – Chinese smartphone maker...   \n",
              "4  \\n<p>Apple can for now resume sales of its fla...   \n",
              "\n",
              "                                    excerpt.rendered  \\\n",
              "0  <p>Prosecutors say the &#8216;strong public in...   \n",
              "1  <p>The New York Times&#8217; complaint says Op...   \n",
              "2  <p>The law requires social media companies wit...   \n",
              "3  <p>The sedan, dubbed the SU7, is a highly anti...   \n",
              "4  <p>Masimo has accused Apple of hiring away its...   \n",
              "\n",
              "                                                link                 date  \\\n",
              "0  https://www.rappler.com/technology/sam-bankman...  2023-12-30 11:00:00   \n",
              "1  https://www.rappler.com/technology/new-york-ti...  2023-12-29 15:12:14   \n",
              "2  https://www.rappler.com/technology/social-medi...  2023-12-29 14:16:24   \n",
              "3  https://www.rappler.com/technology/xiaomi-unve...  2023-12-28 16:59:26   \n",
              "4  https://www.rappler.com/technology/gadgets/app...  2023-12-28 09:53:24   \n",
              "\n",
              "              modified       categories  \\\n",
              "0  2023-12-30 19:57:19  [732, 768, 761]   \n",
              "1  2023-12-29 15:12:24            [732]   \n",
              "2  2023-12-29 14:16:28       [740, 732]   \n",
              "3  2023-12-28 16:59:28            [732]   \n",
              "4  2023-12-28 09:53:35       [738, 732]   \n",
              "\n",
              "                                              tokens  \n",
              "0  [Sam, Bankman-Fried, will, not, face, a, secon...  \n",
              "1  [New, York, Times, sues, OpenAI, ,, Microsoft,...  \n",
              "2  [Elon, Musk, &, #, 8217, ;, s, X, fails, to, b...  \n",
              "3  [China, &, #, 8217, ;, s, Xiaomi, unveils, fir...  \n",
              "4  [Apple, can, temporarily, sell, smartwatches, ...  "
            ]
          },
          "execution_count": null,
          "metadata": {},
          "output_type": "execute_result"
        }
      ],
      "source": [
        "# Define function for tokenizing text\n",
        "def tokenize_text(text):\n",
        "    return word_tokenize(text)\n",
        "\n",
        "# Apply tokenization\n",
        "df['tokens'] = df['title.rendered'].apply(tokenize_text)\n",
        "df.head()"
      ]
    },
    {
      "cell_type": "markdown",
      "metadata": {
        "id": "8xKZGVfhZhsl"
      },
      "source": [
        "### Removing stop words, punctuation marks, and noise\n",
        "\n",
        "Eliminating commonly occurring words, punctuation, and noise that may not add significant meaning."
      ]
    },
    {
      "cell_type": "code",
      "execution_count": null,
      "metadata": {
        "id": "wqObHWN_Zhsm",
        "outputId": "c3a05d26-17e1-4265-aa61-44a67fd469fa"
      },
      "outputs": [
        {
          "data": {
            "text/html": [
              "<div>\n",
              "<style scoped>\n",
              "    .dataframe tbody tr th:only-of-type {\n",
              "        vertical-align: middle;\n",
              "    }\n",
              "\n",
              "    .dataframe tbody tr th {\n",
              "        vertical-align: top;\n",
              "    }\n",
              "\n",
              "    .dataframe thead th {\n",
              "        text-align: right;\n",
              "    }\n",
              "</style>\n",
              "<table border=\"1\" class=\"dataframe\">\n",
              "  <thead>\n",
              "    <tr style=\"text-align: right;\">\n",
              "      <th></th>\n",
              "      <th>id</th>\n",
              "      <th>slug</th>\n",
              "      <th>title.rendered</th>\n",
              "      <th>content.rendered</th>\n",
              "      <th>excerpt.rendered</th>\n",
              "      <th>link</th>\n",
              "      <th>date</th>\n",
              "      <th>modified</th>\n",
              "      <th>categories</th>\n",
              "      <th>tokens</th>\n",
              "      <th>tokens_no_stopwords</th>\n",
              "    </tr>\n",
              "  </thead>\n",
              "  <tbody>\n",
              "    <tr>\n",
              "      <th>0</th>\n",
              "      <td>2577999</td>\n",
              "      <td>sam-bankman-fried-not-face-second-trial</td>\n",
              "      <td>Sam Bankman-Fried will not face a second trial</td>\n",
              "      <td>\\n&lt;p&gt;NEW YORK, USA – US prosecutors said they ...</td>\n",
              "      <td>&lt;p&gt;Prosecutors say the &amp;#8216;strong public in...</td>\n",
              "      <td>https://www.rappler.com/technology/sam-bankman...</td>\n",
              "      <td>2023-12-30 11:00:00</td>\n",
              "      <td>2023-12-30 19:57:19</td>\n",
              "      <td>[732, 768, 761]</td>\n",
              "      <td>[Sam, Bankman-Fried, will, not, face, a, secon...</td>\n",
              "      <td>[Sam, Bankman-Fried, face, second, trial]</td>\n",
              "    </tr>\n",
              "    <tr>\n",
              "      <th>1</th>\n",
              "      <td>2577486</td>\n",
              "      <td>new-york-times-sues-openai-microsoft-copyright...</td>\n",
              "      <td>New York Times sues OpenAI, Microsoft for copy...</td>\n",
              "      <td>\\n&lt;p&gt;MANILA, Philippines – The New York Times ...</td>\n",
              "      <td>&lt;p&gt;The New York Times&amp;#8217; complaint says Op...</td>\n",
              "      <td>https://www.rappler.com/technology/new-york-ti...</td>\n",
              "      <td>2023-12-29 15:12:14</td>\n",
              "      <td>2023-12-29 15:12:24</td>\n",
              "      <td>[732]</td>\n",
              "      <td>[New, York, Times, sues, OpenAI, ,, Microsoft,...</td>\n",
              "      <td>[New, York, Times, sues, OpenAI, Microsoft, co...</td>\n",
              "    </tr>\n",
              "    <tr>\n",
              "      <th>2</th>\n",
              "      <td>2577484</td>\n",
              "      <td>twitter-x-fails-block-california-content-moder...</td>\n",
              "      <td>Elon Musk&amp;#8217;s X fails to block California&amp;...</td>\n",
              "      <td>\\n&lt;p&gt;Elon Musk&amp;#8217;s X on Thursday, December...</td>\n",
              "      <td>&lt;p&gt;The law requires social media companies wit...</td>\n",
              "      <td>https://www.rappler.com/technology/social-medi...</td>\n",
              "      <td>2023-12-29 14:16:24</td>\n",
              "      <td>2023-12-29 14:16:28</td>\n",
              "      <td>[740, 732]</td>\n",
              "      <td>[Elon, Musk, &amp;, #, 8217, ;, s, X, fails, to, b...</td>\n",
              "      <td>[Elon, Musk, 8217, X, fails, block, California...</td>\n",
              "    </tr>\n",
              "    <tr>\n",
              "      <th>3</th>\n",
              "      <td>2577149</td>\n",
              "      <td>xiaomi-unveils-first-electric-car-plans-become...</td>\n",
              "      <td>China&amp;#8217;s Xiaomi unveils first electric ca...</td>\n",
              "      <td>\\n&lt;p&gt;BEIJING, China – Chinese smartphone maker...</td>\n",
              "      <td>&lt;p&gt;The sedan, dubbed the SU7, is a highly anti...</td>\n",
              "      <td>https://www.rappler.com/technology/xiaomi-unve...</td>\n",
              "      <td>2023-12-28 16:59:26</td>\n",
              "      <td>2023-12-28 16:59:28</td>\n",
              "      <td>[732]</td>\n",
              "      <td>[China, &amp;, #, 8217, ;, s, Xiaomi, unveils, fir...</td>\n",
              "      <td>[China, 8217, Xiaomi, unveils, first, electric...</td>\n",
              "    </tr>\n",
              "    <tr>\n",
              "      <th>4</th>\n",
              "      <td>2576906</td>\n",
              "      <td>apple-can-temporarily-sell-smartwatches-after-...</td>\n",
              "      <td>Apple can temporarily sell smartwatches after ...</td>\n",
              "      <td>\\n&lt;p&gt;Apple can for now resume sales of its fla...</td>\n",
              "      <td>&lt;p&gt;Masimo has accused Apple of hiring away its...</td>\n",
              "      <td>https://www.rappler.com/technology/gadgets/app...</td>\n",
              "      <td>2023-12-28 09:53:24</td>\n",
              "      <td>2023-12-28 09:53:35</td>\n",
              "      <td>[738, 732]</td>\n",
              "      <td>[Apple, can, temporarily, sell, smartwatches, ...</td>\n",
              "      <td>[Apple, temporarily, sell, smartwatches, US, a...</td>\n",
              "    </tr>\n",
              "  </tbody>\n",
              "</table>\n",
              "</div>"
            ],
            "text/plain": [
              "        id                                               slug  \\\n",
              "0  2577999            sam-bankman-fried-not-face-second-trial   \n",
              "1  2577486  new-york-times-sues-openai-microsoft-copyright...   \n",
              "2  2577484  twitter-x-fails-block-california-content-moder...   \n",
              "3  2577149  xiaomi-unveils-first-electric-car-plans-become...   \n",
              "4  2576906  apple-can-temporarily-sell-smartwatches-after-...   \n",
              "\n",
              "                                      title.rendered  \\\n",
              "0     Sam Bankman-Fried will not face a second trial   \n",
              "1  New York Times sues OpenAI, Microsoft for copy...   \n",
              "2  Elon Musk&#8217;s X fails to block California&...   \n",
              "3  China&#8217;s Xiaomi unveils first electric ca...   \n",
              "4  Apple can temporarily sell smartwatches after ...   \n",
              "\n",
              "                                    content.rendered  \\\n",
              "0  \\n<p>NEW YORK, USA – US prosecutors said they ...   \n",
              "1  \\n<p>MANILA, Philippines – The New York Times ...   \n",
              "2  \\n<p>Elon Musk&#8217;s X on Thursday, December...   \n",
              "3  \\n<p>BEIJING, China – Chinese smartphone maker...   \n",
              "4  \\n<p>Apple can for now resume sales of its fla...   \n",
              "\n",
              "                                    excerpt.rendered  \\\n",
              "0  <p>Prosecutors say the &#8216;strong public in...   \n",
              "1  <p>The New York Times&#8217; complaint says Op...   \n",
              "2  <p>The law requires social media companies wit...   \n",
              "3  <p>The sedan, dubbed the SU7, is a highly anti...   \n",
              "4  <p>Masimo has accused Apple of hiring away its...   \n",
              "\n",
              "                                                link                 date  \\\n",
              "0  https://www.rappler.com/technology/sam-bankman...  2023-12-30 11:00:00   \n",
              "1  https://www.rappler.com/technology/new-york-ti...  2023-12-29 15:12:14   \n",
              "2  https://www.rappler.com/technology/social-medi...  2023-12-29 14:16:24   \n",
              "3  https://www.rappler.com/technology/xiaomi-unve...  2023-12-28 16:59:26   \n",
              "4  https://www.rappler.com/technology/gadgets/app...  2023-12-28 09:53:24   \n",
              "\n",
              "              modified       categories  \\\n",
              "0  2023-12-30 19:57:19  [732, 768, 761]   \n",
              "1  2023-12-29 15:12:24            [732]   \n",
              "2  2023-12-29 14:16:28       [740, 732]   \n",
              "3  2023-12-28 16:59:28            [732]   \n",
              "4  2023-12-28 09:53:35       [738, 732]   \n",
              "\n",
              "                                              tokens  \\\n",
              "0  [Sam, Bankman-Fried, will, not, face, a, secon...   \n",
              "1  [New, York, Times, sues, OpenAI, ,, Microsoft,...   \n",
              "2  [Elon, Musk, &, #, 8217, ;, s, X, fails, to, b...   \n",
              "3  [China, &, #, 8217, ;, s, Xiaomi, unveils, fir...   \n",
              "4  [Apple, can, temporarily, sell, smartwatches, ...   \n",
              "\n",
              "                                 tokens_no_stopwords  \n",
              "0          [Sam, Bankman-Fried, face, second, trial]  \n",
              "1  [New, York, Times, sues, OpenAI, Microsoft, co...  \n",
              "2  [Elon, Musk, 8217, X, fails, block, California...  \n",
              "3  [China, 8217, Xiaomi, unveils, first, electric...  \n",
              "4  [Apple, temporarily, sell, smartwatches, US, a...  "
            ]
          },
          "execution_count": null,
          "metadata": {},
          "output_type": "execute_result"
        }
      ],
      "source": [
        "# Set up stopwords\n",
        "stop_words = set(stopwords.words('english'))\n",
        "\n",
        "# Define function for noise removal\n",
        "def remove_stopwords_punctuation_noise(tokens):\n",
        "    return [word for word in tokens if word.lower() not in stop_words\n",
        "            and word not in string.punctuation] # alternatively, word.isalnum()\n",
        "\n",
        "# Apply noise removal\n",
        "df['tokens_no_stopwords'] = df['tokens'].apply(\n",
        "    remove_stopwords_punctuation_noise\n",
        ")\n",
        "\n",
        "df.head()"
      ]
    },
    {
      "cell_type": "markdown",
      "metadata": {
        "id": "HzHLwHIQZhsm"
      },
      "source": [
        "### Stemming\n",
        "\n",
        "Reducing words to their base or root form."
      ]
    },
    {
      "cell_type": "code",
      "execution_count": null,
      "metadata": {
        "id": "l7MVQUkZZhsm"
      },
      "outputs": [],
      "source": [
        "# Set up PorterStemmer\n",
        "ps = PorterStemmer()\n",
        "\n",
        "# Define a function for stemming\n",
        "def stem_tokens(tokens):\n",
        "    return [ps.stem(word) for word in tokens]\n",
        "\n",
        "# Apply stemming\n",
        "df['stemmed_tokens'] = df['tokens_no_stopwords'].apply(stem_tokens)"
      ]
    },
    {
      "cell_type": "markdown",
      "metadata": {
        "id": "r1dNqmw6Zhsn"
      },
      "source": [
        "Check the effect of stemming on a few sample words"
      ]
    },
    {
      "cell_type": "code",
      "execution_count": null,
      "metadata": {
        "id": "plKb4ga2Zhsn",
        "outputId": "72d5a188-2d3f-4158-9900-84c9933d1a93"
      },
      "outputs": [
        {
          "data": {
            "text/html": [
              "<div>\n",
              "<style scoped>\n",
              "    .dataframe tbody tr th:only-of-type {\n",
              "        vertical-align: middle;\n",
              "    }\n",
              "\n",
              "    .dataframe tbody tr th {\n",
              "        vertical-align: top;\n",
              "    }\n",
              "\n",
              "    .dataframe thead th {\n",
              "        text-align: right;\n",
              "    }\n",
              "</style>\n",
              "<table border=\"1\" class=\"dataframe\">\n",
              "  <thead>\n",
              "    <tr style=\"text-align: right;\">\n",
              "      <th></th>\n",
              "      <th>Original Word</th>\n",
              "      <th>Stemmed Word</th>\n",
              "    </tr>\n",
              "  </thead>\n",
              "  <tbody>\n",
              "    <tr>\n",
              "      <th>0</th>\n",
              "      <td>running</td>\n",
              "      <td>run</td>\n",
              "    </tr>\n",
              "    <tr>\n",
              "      <th>1</th>\n",
              "      <td>flies</td>\n",
              "      <td>fli</td>\n",
              "    </tr>\n",
              "    <tr>\n",
              "      <th>2</th>\n",
              "      <td>denying</td>\n",
              "      <td>deni</td>\n",
              "    </tr>\n",
              "  </tbody>\n",
              "</table>\n",
              "</div>"
            ],
            "text/plain": [
              "  Original Word Stemmed Word\n",
              "0       running          run\n",
              "1         flies          fli\n",
              "2       denying         deni"
            ]
          },
          "execution_count": null,
          "metadata": {},
          "output_type": "execute_result"
        }
      ],
      "source": [
        "sample_words = [\"running\", \"flies\", \"denying\"]\n",
        "\n",
        "stemmed_words = [ps.stem(word) for word in sample_words]\n",
        "pd.DataFrame({'Original Word': sample_words, 'Stemmed Word': stemmed_words})"
      ]
    },
    {
      "cell_type": "markdown",
      "metadata": {
        "id": "K5Jd_bcYZhsn"
      },
      "source": [
        "### Lemmatization\n",
        "\n",
        "Converting words to their meaningful base form"
      ]
    },
    {
      "cell_type": "code",
      "execution_count": null,
      "metadata": {
        "id": "2hqn7_PWZhsn"
      },
      "outputs": [],
      "source": [
        "# Set up WordNetLemmatizer\n",
        "lemmatizer = WordNetLemmatizer()\n",
        "\n",
        "# Define a function for lemmatization\n",
        "def lemmatize_tokens(tokens):\n",
        "    return [lemmatizer.lemmatize(word) for word in tokens]\n",
        "\n",
        "# Apply lemmatization\n",
        "df['lemmatized_tokens'] = df['tokens_no_stopwords'].apply(lemmatize_tokens)"
      ]
    },
    {
      "cell_type": "markdown",
      "metadata": {
        "id": "fthFm9CdZhso"
      },
      "source": [
        "Let's compare the original word, stemmed word, and lemmatized word for the same set of sample words"
      ]
    },
    {
      "cell_type": "code",
      "execution_count": null,
      "metadata": {
        "id": "yn-QLefKZhso",
        "outputId": "4cc3182c-94b0-40a5-89f3-fb526f75ce13"
      },
      "outputs": [
        {
          "data": {
            "text/html": [
              "<div>\n",
              "<style scoped>\n",
              "    .dataframe tbody tr th:only-of-type {\n",
              "        vertical-align: middle;\n",
              "    }\n",
              "\n",
              "    .dataframe tbody tr th {\n",
              "        vertical-align: top;\n",
              "    }\n",
              "\n",
              "    .dataframe thead th {\n",
              "        text-align: right;\n",
              "    }\n",
              "</style>\n",
              "<table border=\"1\" class=\"dataframe\">\n",
              "  <thead>\n",
              "    <tr style=\"text-align: right;\">\n",
              "      <th></th>\n",
              "      <th>Original Word</th>\n",
              "      <th>Stemmed Word</th>\n",
              "      <th>Lemmatized Word</th>\n",
              "    </tr>\n",
              "  </thead>\n",
              "  <tbody>\n",
              "    <tr>\n",
              "      <th>0</th>\n",
              "      <td>running</td>\n",
              "      <td>run</td>\n",
              "      <td>running</td>\n",
              "    </tr>\n",
              "    <tr>\n",
              "      <th>1</th>\n",
              "      <td>flies</td>\n",
              "      <td>fli</td>\n",
              "      <td>fly</td>\n",
              "    </tr>\n",
              "    <tr>\n",
              "      <th>2</th>\n",
              "      <td>denying</td>\n",
              "      <td>deni</td>\n",
              "      <td>denying</td>\n",
              "    </tr>\n",
              "  </tbody>\n",
              "</table>\n",
              "</div>"
            ],
            "text/plain": [
              "  Original Word Stemmed Word Lemmatized Word\n",
              "0       running          run         running\n",
              "1         flies          fli             fly\n",
              "2       denying         deni         denying"
            ]
          },
          "execution_count": null,
          "metadata": {},
          "output_type": "execute_result"
        }
      ],
      "source": [
        "lemmatized_words = [lemmatizer.lemmatize(word) for word in sample_words]\n",
        "pd.DataFrame({'Original Word': sample_words, 'Stemmed Word': stemmed_words,\n",
        "              'Lemmatized Word': lemmatized_words})"
      ]
    },
    {
      "cell_type": "code",
      "execution_count": null,
      "metadata": {
        "id": "07ImqmDSZhso",
        "outputId": "c466fda1-2c6e-4ddd-852f-3290617476ca"
      },
      "outputs": [
        {
          "data": {
            "text/html": [
              "<div>\n",
              "<style scoped>\n",
              "    .dataframe tbody tr th:only-of-type {\n",
              "        vertical-align: middle;\n",
              "    }\n",
              "\n",
              "    .dataframe tbody tr th {\n",
              "        vertical-align: top;\n",
              "    }\n",
              "\n",
              "    .dataframe thead th {\n",
              "        text-align: right;\n",
              "    }\n",
              "</style>\n",
              "<table border=\"1\" class=\"dataframe\">\n",
              "  <thead>\n",
              "    <tr style=\"text-align: right;\">\n",
              "      <th></th>\n",
              "      <th>Original Word</th>\n",
              "      <th>Stemmed Word</th>\n",
              "      <th>Lemmatized Word</th>\n",
              "    </tr>\n",
              "  </thead>\n",
              "  <tbody>\n",
              "    <tr>\n",
              "      <th>0</th>\n",
              "      <td>running</td>\n",
              "      <td>run</td>\n",
              "      <td>run</td>\n",
              "    </tr>\n",
              "    <tr>\n",
              "      <th>1</th>\n",
              "      <td>flies</td>\n",
              "      <td>fli</td>\n",
              "      <td>fly</td>\n",
              "    </tr>\n",
              "    <tr>\n",
              "      <th>2</th>\n",
              "      <td>denying</td>\n",
              "      <td>deni</td>\n",
              "      <td>deny</td>\n",
              "    </tr>\n",
              "  </tbody>\n",
              "</table>\n",
              "</div>"
            ],
            "text/plain": [
              "  Original Word Stemmed Word Lemmatized Word\n",
              "0       running          run             run\n",
              "1         flies          fli             fly\n",
              "2       denying         deni            deny"
            ]
          },
          "execution_count": null,
          "metadata": {},
          "output_type": "execute_result"
        }
      ],
      "source": [
        "# Define a function to get the POS tag for a word\n",
        "def get_wordnet_pos(word):\n",
        "    # Map POS tag to the first character used by the WordNetLemmatizer\n",
        "    tag = nltk.pos_tag([word])[0][1][0].upper()\n",
        "    tag = {'N': 'n', 'V': 'v', 'R': 'r', 'J': 'a'}.get(tag, 'n')\n",
        "    return tag\n",
        "\n",
        "# Adjust lemmatization function\n",
        "def lemmatize_tokens(tokens):\n",
        "    return [lemmatizer.lemmatize(word, get_wordnet_pos(word))\n",
        "            for word in tokens]\n",
        "\n",
        "# Check samples\n",
        "lemmatized_words = [lemmatizer.lemmatize(word, get_wordnet_pos(word))\n",
        "                    for word in sample_words]\n",
        "\n",
        "pd.DataFrame({'Original Word': sample_words, 'Stemmed Word': stemmed_words,\n",
        "              'Lemmatized Word': lemmatized_words})"
      ]
    },
    {
      "cell_type": "markdown",
      "metadata": {
        "id": "3L-aShfXZhso"
      },
      "source": [
        "## Text Preprocessing with SpaCy"
      ]
    },
    {
      "cell_type": "code",
      "execution_count": null,
      "metadata": {
        "id": "3X4fHkzjZhso"
      },
      "outputs": [],
      "source": [
        "# !python -m spacy download en_core_web_sm"
      ]
    },
    {
      "cell_type": "code",
      "execution_count": null,
      "metadata": {
        "id": "LG5AkPOvZhsp"
      },
      "outputs": [],
      "source": [
        "# Import SpaCy library and load pre-trained model\n",
        "import spacy\n",
        "\n",
        "nlp = spacy.load('en_core_web_sm')"
      ]
    },
    {
      "cell_type": "markdown",
      "metadata": {
        "id": "CMVGKp8nZhsp"
      },
      "source": [
        "### Tokenization"
      ]
    },
    {
      "cell_type": "markdown",
      "metadata": {
        "id": "VR8peBK0Zhsp"
      },
      "source": [
        "Breaking the text into individual words"
      ]
    },
    {
      "cell_type": "code",
      "execution_count": null,
      "metadata": {
        "id": "8ChHFTAZZhsp",
        "outputId": "9d176240-5e74-4c92-d099-ee57c182202d"
      },
      "outputs": [
        {
          "data": {
            "text/html": [
              "<div>\n",
              "<style scoped>\n",
              "    .dataframe tbody tr th:only-of-type {\n",
              "        vertical-align: middle;\n",
              "    }\n",
              "\n",
              "    .dataframe tbody tr th {\n",
              "        vertical-align: top;\n",
              "    }\n",
              "\n",
              "    .dataframe thead th {\n",
              "        text-align: right;\n",
              "    }\n",
              "</style>\n",
              "<table border=\"1\" class=\"dataframe\">\n",
              "  <thead>\n",
              "    <tr style=\"text-align: right;\">\n",
              "      <th></th>\n",
              "      <th>id</th>\n",
              "      <th>slug</th>\n",
              "      <th>title.rendered</th>\n",
              "      <th>content.rendered</th>\n",
              "      <th>excerpt.rendered</th>\n",
              "      <th>link</th>\n",
              "      <th>date</th>\n",
              "      <th>modified</th>\n",
              "      <th>categories</th>\n",
              "      <th>tokens</th>\n",
              "      <th>tokens_no_stopwords</th>\n",
              "      <th>stemmed_tokens</th>\n",
              "      <th>lemmatized_tokens</th>\n",
              "      <th>spacy_tokens</th>\n",
              "    </tr>\n",
              "  </thead>\n",
              "  <tbody>\n",
              "    <tr>\n",
              "      <th>0</th>\n",
              "      <td>2577999</td>\n",
              "      <td>sam-bankman-fried-not-face-second-trial</td>\n",
              "      <td>Sam Bankman-Fried will not face a second trial</td>\n",
              "      <td>\\n&lt;p&gt;NEW YORK, USA – US prosecutors said they ...</td>\n",
              "      <td>&lt;p&gt;Prosecutors say the &amp;#8216;strong public in...</td>\n",
              "      <td>https://www.rappler.com/technology/sam-bankman...</td>\n",
              "      <td>2023-12-30 11:00:00</td>\n",
              "      <td>2023-12-30 19:57:19</td>\n",
              "      <td>[732, 768, 761]</td>\n",
              "      <td>[Sam, Bankman-Fried, will, not, face, a, secon...</td>\n",
              "      <td>[Sam, Bankman-Fried, face, second, trial]</td>\n",
              "      <td>[sam, bankman-fri, face, second, trial]</td>\n",
              "      <td>[Sam, Bankman-Fried, face, second, trial]</td>\n",
              "      <td>[Sam, Bankman, -, Fried, will, not, face, a, s...</td>\n",
              "    </tr>\n",
              "    <tr>\n",
              "      <th>1</th>\n",
              "      <td>2577486</td>\n",
              "      <td>new-york-times-sues-openai-microsoft-copyright...</td>\n",
              "      <td>New York Times sues OpenAI, Microsoft for copy...</td>\n",
              "      <td>\\n&lt;p&gt;MANILA, Philippines – The New York Times ...</td>\n",
              "      <td>&lt;p&gt;The New York Times&amp;#8217; complaint says Op...</td>\n",
              "      <td>https://www.rappler.com/technology/new-york-ti...</td>\n",
              "      <td>2023-12-29 15:12:14</td>\n",
              "      <td>2023-12-29 15:12:24</td>\n",
              "      <td>[732]</td>\n",
              "      <td>[New, York, Times, sues, OpenAI, ,, Microsoft,...</td>\n",
              "      <td>[New, York, Times, sues, OpenAI, Microsoft, co...</td>\n",
              "      <td>[new, york, time, sue, openai, microsoft, copy...</td>\n",
              "      <td>[New, York, Times, sue, OpenAI, Microsoft, cop...</td>\n",
              "      <td>[New, York, Times, sues, OpenAI, ,, Microsoft,...</td>\n",
              "    </tr>\n",
              "    <tr>\n",
              "      <th>2</th>\n",
              "      <td>2577484</td>\n",
              "      <td>twitter-x-fails-block-california-content-moder...</td>\n",
              "      <td>Elon Musk&amp;#8217;s X fails to block California&amp;...</td>\n",
              "      <td>\\n&lt;p&gt;Elon Musk&amp;#8217;s X on Thursday, December...</td>\n",
              "      <td>&lt;p&gt;The law requires social media companies wit...</td>\n",
              "      <td>https://www.rappler.com/technology/social-medi...</td>\n",
              "      <td>2023-12-29 14:16:24</td>\n",
              "      <td>2023-12-29 14:16:28</td>\n",
              "      <td>[740, 732]</td>\n",
              "      <td>[Elon, Musk, &amp;, #, 8217, ;, s, X, fails, to, b...</td>\n",
              "      <td>[Elon, Musk, 8217, X, fails, block, California...</td>\n",
              "      <td>[elon, musk, 8217, x, fail, block, california,...</td>\n",
              "      <td>[Elon, Musk, 8217, X, fails, block, California...</td>\n",
              "      <td>[Elon, Musk&amp;#8217;s, X, fails, to, block, Cali...</td>\n",
              "    </tr>\n",
              "    <tr>\n",
              "      <th>3</th>\n",
              "      <td>2577149</td>\n",
              "      <td>xiaomi-unveils-first-electric-car-plans-become...</td>\n",
              "      <td>China&amp;#8217;s Xiaomi unveils first electric ca...</td>\n",
              "      <td>\\n&lt;p&gt;BEIJING, China – Chinese smartphone maker...</td>\n",
              "      <td>&lt;p&gt;The sedan, dubbed the SU7, is a highly anti...</td>\n",
              "      <td>https://www.rappler.com/technology/xiaomi-unve...</td>\n",
              "      <td>2023-12-28 16:59:26</td>\n",
              "      <td>2023-12-28 16:59:28</td>\n",
              "      <td>[732]</td>\n",
              "      <td>[China, &amp;, #, 8217, ;, s, Xiaomi, unveils, fir...</td>\n",
              "      <td>[China, 8217, Xiaomi, unveils, first, electric...</td>\n",
              "      <td>[china, 8217, xiaomi, unveil, first, electr, c...</td>\n",
              "      <td>[China, 8217, Xiaomi, unveils, first, electric...</td>\n",
              "      <td>[China&amp;#8217;s, Xiaomi, unveils, first, electr...</td>\n",
              "    </tr>\n",
              "    <tr>\n",
              "      <th>4</th>\n",
              "      <td>2576906</td>\n",
              "      <td>apple-can-temporarily-sell-smartwatches-after-...</td>\n",
              "      <td>Apple can temporarily sell smartwatches after ...</td>\n",
              "      <td>\\n&lt;p&gt;Apple can for now resume sales of its fla...</td>\n",
              "      <td>&lt;p&gt;Masimo has accused Apple of hiring away its...</td>\n",
              "      <td>https://www.rappler.com/technology/gadgets/app...</td>\n",
              "      <td>2023-12-28 09:53:24</td>\n",
              "      <td>2023-12-28 09:53:35</td>\n",
              "      <td>[738, 732]</td>\n",
              "      <td>[Apple, can, temporarily, sell, smartwatches, ...</td>\n",
              "      <td>[Apple, temporarily, sell, smartwatches, US, a...</td>\n",
              "      <td>[appl, temporarili, sell, smartwatch, us, appe...</td>\n",
              "      <td>[Apple, temporarily, sell, smartwatches, US, a...</td>\n",
              "      <td>[Apple, can, temporarily, sell, smartwatches, ...</td>\n",
              "    </tr>\n",
              "  </tbody>\n",
              "</table>\n",
              "</div>"
            ],
            "text/plain": [
              "        id                                               slug  \\\n",
              "0  2577999            sam-bankman-fried-not-face-second-trial   \n",
              "1  2577486  new-york-times-sues-openai-microsoft-copyright...   \n",
              "2  2577484  twitter-x-fails-block-california-content-moder...   \n",
              "3  2577149  xiaomi-unveils-first-electric-car-plans-become...   \n",
              "4  2576906  apple-can-temporarily-sell-smartwatches-after-...   \n",
              "\n",
              "                                      title.rendered  \\\n",
              "0     Sam Bankman-Fried will not face a second trial   \n",
              "1  New York Times sues OpenAI, Microsoft for copy...   \n",
              "2  Elon Musk&#8217;s X fails to block California&...   \n",
              "3  China&#8217;s Xiaomi unveils first electric ca...   \n",
              "4  Apple can temporarily sell smartwatches after ...   \n",
              "\n",
              "                                    content.rendered  \\\n",
              "0  \\n<p>NEW YORK, USA – US prosecutors said they ...   \n",
              "1  \\n<p>MANILA, Philippines – The New York Times ...   \n",
              "2  \\n<p>Elon Musk&#8217;s X on Thursday, December...   \n",
              "3  \\n<p>BEIJING, China – Chinese smartphone maker...   \n",
              "4  \\n<p>Apple can for now resume sales of its fla...   \n",
              "\n",
              "                                    excerpt.rendered  \\\n",
              "0  <p>Prosecutors say the &#8216;strong public in...   \n",
              "1  <p>The New York Times&#8217; complaint says Op...   \n",
              "2  <p>The law requires social media companies wit...   \n",
              "3  <p>The sedan, dubbed the SU7, is a highly anti...   \n",
              "4  <p>Masimo has accused Apple of hiring away its...   \n",
              "\n",
              "                                                link                 date  \\\n",
              "0  https://www.rappler.com/technology/sam-bankman...  2023-12-30 11:00:00   \n",
              "1  https://www.rappler.com/technology/new-york-ti...  2023-12-29 15:12:14   \n",
              "2  https://www.rappler.com/technology/social-medi...  2023-12-29 14:16:24   \n",
              "3  https://www.rappler.com/technology/xiaomi-unve...  2023-12-28 16:59:26   \n",
              "4  https://www.rappler.com/technology/gadgets/app...  2023-12-28 09:53:24   \n",
              "\n",
              "              modified       categories  \\\n",
              "0  2023-12-30 19:57:19  [732, 768, 761]   \n",
              "1  2023-12-29 15:12:24            [732]   \n",
              "2  2023-12-29 14:16:28       [740, 732]   \n",
              "3  2023-12-28 16:59:28            [732]   \n",
              "4  2023-12-28 09:53:35       [738, 732]   \n",
              "\n",
              "                                              tokens  \\\n",
              "0  [Sam, Bankman-Fried, will, not, face, a, secon...   \n",
              "1  [New, York, Times, sues, OpenAI, ,, Microsoft,...   \n",
              "2  [Elon, Musk, &, #, 8217, ;, s, X, fails, to, b...   \n",
              "3  [China, &, #, 8217, ;, s, Xiaomi, unveils, fir...   \n",
              "4  [Apple, can, temporarily, sell, smartwatches, ...   \n",
              "\n",
              "                                 tokens_no_stopwords  \\\n",
              "0          [Sam, Bankman-Fried, face, second, trial]   \n",
              "1  [New, York, Times, sues, OpenAI, Microsoft, co...   \n",
              "2  [Elon, Musk, 8217, X, fails, block, California...   \n",
              "3  [China, 8217, Xiaomi, unveils, first, electric...   \n",
              "4  [Apple, temporarily, sell, smartwatches, US, a...   \n",
              "\n",
              "                                      stemmed_tokens  \\\n",
              "0            [sam, bankman-fri, face, second, trial]   \n",
              "1  [new, york, time, sue, openai, microsoft, copy...   \n",
              "2  [elon, musk, 8217, x, fail, block, california,...   \n",
              "3  [china, 8217, xiaomi, unveil, first, electr, c...   \n",
              "4  [appl, temporarili, sell, smartwatch, us, appe...   \n",
              "\n",
              "                                   lemmatized_tokens  \\\n",
              "0          [Sam, Bankman-Fried, face, second, trial]   \n",
              "1  [New, York, Times, sue, OpenAI, Microsoft, cop...   \n",
              "2  [Elon, Musk, 8217, X, fails, block, California...   \n",
              "3  [China, 8217, Xiaomi, unveils, first, electric...   \n",
              "4  [Apple, temporarily, sell, smartwatches, US, a...   \n",
              "\n",
              "                                        spacy_tokens  \n",
              "0  [Sam, Bankman, -, Fried, will, not, face, a, s...  \n",
              "1  [New, York, Times, sues, OpenAI, ,, Microsoft,...  \n",
              "2  [Elon, Musk&#8217;s, X, fails, to, block, Cali...  \n",
              "3  [China&#8217;s, Xiaomi, unveils, first, electr...  \n",
              "4  [Apple, can, temporarily, sell, smartwatches, ...  "
            ]
          },
          "execution_count": null,
          "metadata": {},
          "output_type": "execute_result"
        }
      ],
      "source": [
        "# Define a function for tokenization\n",
        "def spacy_tokenize_text(text):\n",
        "    doc = nlp(text)\n",
        "    return [token.text for token in doc]\n",
        "\n",
        "# Apply tokenization\n",
        "df['spacy_tokens'] = df['title.rendered'].apply(spacy_tokenize_text)\n",
        "df.head()"
      ]
    },
    {
      "cell_type": "markdown",
      "metadata": {
        "id": "mgGLWniXZhsq"
      },
      "source": [
        "### Removing stop words and punctuation marks"
      ]
    },
    {
      "cell_type": "markdown",
      "metadata": {
        "id": "np5eFSJAZhsq"
      },
      "source": [
        "Eliminating commonly occurring words, punctuation, and noise that may not add significant meaning"
      ]
    },
    {
      "cell_type": "code",
      "execution_count": null,
      "metadata": {
        "id": "JwGr__QdZhsq",
        "outputId": "7f78a100-aa26-41dd-bd2c-7ff65bf8a7e5"
      },
      "outputs": [
        {
          "data": {
            "text/html": [
              "<div>\n",
              "<style scoped>\n",
              "    .dataframe tbody tr th:only-of-type {\n",
              "        vertical-align: middle;\n",
              "    }\n",
              "\n",
              "    .dataframe tbody tr th {\n",
              "        vertical-align: top;\n",
              "    }\n",
              "\n",
              "    .dataframe thead th {\n",
              "        text-align: right;\n",
              "    }\n",
              "</style>\n",
              "<table border=\"1\" class=\"dataframe\">\n",
              "  <thead>\n",
              "    <tr style=\"text-align: right;\">\n",
              "      <th></th>\n",
              "      <th>id</th>\n",
              "      <th>slug</th>\n",
              "      <th>title.rendered</th>\n",
              "      <th>content.rendered</th>\n",
              "      <th>excerpt.rendered</th>\n",
              "      <th>link</th>\n",
              "      <th>date</th>\n",
              "      <th>modified</th>\n",
              "      <th>categories</th>\n",
              "      <th>tokens</th>\n",
              "      <th>tokens_no_stopwords</th>\n",
              "      <th>stemmed_tokens</th>\n",
              "      <th>lemmatized_tokens</th>\n",
              "      <th>spacy_tokens</th>\n",
              "      <th>spacy_tokens_no_stopwords</th>\n",
              "    </tr>\n",
              "  </thead>\n",
              "  <tbody>\n",
              "    <tr>\n",
              "      <th>0</th>\n",
              "      <td>2577999</td>\n",
              "      <td>sam-bankman-fried-not-face-second-trial</td>\n",
              "      <td>Sam Bankman-Fried will not face a second trial</td>\n",
              "      <td>\\n&lt;p&gt;NEW YORK, USA – US prosecutors said they ...</td>\n",
              "      <td>&lt;p&gt;Prosecutors say the &amp;#8216;strong public in...</td>\n",
              "      <td>https://www.rappler.com/technology/sam-bankman...</td>\n",
              "      <td>2023-12-30 11:00:00</td>\n",
              "      <td>2023-12-30 19:57:19</td>\n",
              "      <td>[732, 768, 761]</td>\n",
              "      <td>[Sam, Bankman-Fried, will, not, face, a, secon...</td>\n",
              "      <td>[Sam, Bankman-Fried, face, second, trial]</td>\n",
              "      <td>[sam, bankman-fri, face, second, trial]</td>\n",
              "      <td>[Sam, Bankman-Fried, face, second, trial]</td>\n",
              "      <td>[Sam, Bankman, -, Fried, will, not, face, a, s...</td>\n",
              "      <td>[Sam, Bankman, Fried, face, second, trial]</td>\n",
              "    </tr>\n",
              "    <tr>\n",
              "      <th>1</th>\n",
              "      <td>2577486</td>\n",
              "      <td>new-york-times-sues-openai-microsoft-copyright...</td>\n",
              "      <td>New York Times sues OpenAI, Microsoft for copy...</td>\n",
              "      <td>\\n&lt;p&gt;MANILA, Philippines – The New York Times ...</td>\n",
              "      <td>&lt;p&gt;The New York Times&amp;#8217; complaint says Op...</td>\n",
              "      <td>https://www.rappler.com/technology/new-york-ti...</td>\n",
              "      <td>2023-12-29 15:12:14</td>\n",
              "      <td>2023-12-29 15:12:24</td>\n",
              "      <td>[732]</td>\n",
              "      <td>[New, York, Times, sues, OpenAI, ,, Microsoft,...</td>\n",
              "      <td>[New, York, Times, sues, OpenAI, Microsoft, co...</td>\n",
              "      <td>[new, york, time, sue, openai, microsoft, copy...</td>\n",
              "      <td>[New, York, Times, sue, OpenAI, Microsoft, cop...</td>\n",
              "      <td>[New, York, Times, sues, OpenAI, ,, Microsoft,...</td>\n",
              "      <td>[New, York, Times, sues, OpenAI, Microsoft, co...</td>\n",
              "    </tr>\n",
              "    <tr>\n",
              "      <th>2</th>\n",
              "      <td>2577484</td>\n",
              "      <td>twitter-x-fails-block-california-content-moder...</td>\n",
              "      <td>Elon Musk&amp;#8217;s X fails to block California&amp;...</td>\n",
              "      <td>\\n&lt;p&gt;Elon Musk&amp;#8217;s X on Thursday, December...</td>\n",
              "      <td>&lt;p&gt;The law requires social media companies wit...</td>\n",
              "      <td>https://www.rappler.com/technology/social-medi...</td>\n",
              "      <td>2023-12-29 14:16:24</td>\n",
              "      <td>2023-12-29 14:16:28</td>\n",
              "      <td>[740, 732]</td>\n",
              "      <td>[Elon, Musk, &amp;, #, 8217, ;, s, X, fails, to, b...</td>\n",
              "      <td>[Elon, Musk, 8217, X, fails, block, California...</td>\n",
              "      <td>[elon, musk, 8217, x, fail, block, california,...</td>\n",
              "      <td>[Elon, Musk, 8217, X, fails, block, California...</td>\n",
              "      <td>[Elon, Musk&amp;#8217;s, X, fails, to, block, Cali...</td>\n",
              "      <td>[Elon, Musk&amp;#8217;s, X, fails, block, Californ...</td>\n",
              "    </tr>\n",
              "    <tr>\n",
              "      <th>3</th>\n",
              "      <td>2577149</td>\n",
              "      <td>xiaomi-unveils-first-electric-car-plans-become...</td>\n",
              "      <td>China&amp;#8217;s Xiaomi unveils first electric ca...</td>\n",
              "      <td>\\n&lt;p&gt;BEIJING, China – Chinese smartphone maker...</td>\n",
              "      <td>&lt;p&gt;The sedan, dubbed the SU7, is a highly anti...</td>\n",
              "      <td>https://www.rappler.com/technology/xiaomi-unve...</td>\n",
              "      <td>2023-12-28 16:59:26</td>\n",
              "      <td>2023-12-28 16:59:28</td>\n",
              "      <td>[732]</td>\n",
              "      <td>[China, &amp;, #, 8217, ;, s, Xiaomi, unveils, fir...</td>\n",
              "      <td>[China, 8217, Xiaomi, unveils, first, electric...</td>\n",
              "      <td>[china, 8217, xiaomi, unveil, first, electr, c...</td>\n",
              "      <td>[China, 8217, Xiaomi, unveils, first, electric...</td>\n",
              "      <td>[China&amp;#8217;s, Xiaomi, unveils, first, electr...</td>\n",
              "      <td>[China&amp;#8217;s, Xiaomi, unveils, electric, car...</td>\n",
              "    </tr>\n",
              "    <tr>\n",
              "      <th>4</th>\n",
              "      <td>2576906</td>\n",
              "      <td>apple-can-temporarily-sell-smartwatches-after-...</td>\n",
              "      <td>Apple can temporarily sell smartwatches after ...</td>\n",
              "      <td>\\n&lt;p&gt;Apple can for now resume sales of its fla...</td>\n",
              "      <td>&lt;p&gt;Masimo has accused Apple of hiring away its...</td>\n",
              "      <td>https://www.rappler.com/technology/gadgets/app...</td>\n",
              "      <td>2023-12-28 09:53:24</td>\n",
              "      <td>2023-12-28 09:53:35</td>\n",
              "      <td>[738, 732]</td>\n",
              "      <td>[Apple, can, temporarily, sell, smartwatches, ...</td>\n",
              "      <td>[Apple, temporarily, sell, smartwatches, US, a...</td>\n",
              "      <td>[appl, temporarili, sell, smartwatch, us, appe...</td>\n",
              "      <td>[Apple, temporarily, sell, smartwatches, US, a...</td>\n",
              "      <td>[Apple, can, temporarily, sell, smartwatches, ...</td>\n",
              "      <td>[Apple, temporarily, sell, smartwatches, appea...</td>\n",
              "    </tr>\n",
              "  </tbody>\n",
              "</table>\n",
              "</div>"
            ],
            "text/plain": [
              "        id                                               slug  \\\n",
              "0  2577999            sam-bankman-fried-not-face-second-trial   \n",
              "1  2577486  new-york-times-sues-openai-microsoft-copyright...   \n",
              "2  2577484  twitter-x-fails-block-california-content-moder...   \n",
              "3  2577149  xiaomi-unveils-first-electric-car-plans-become...   \n",
              "4  2576906  apple-can-temporarily-sell-smartwatches-after-...   \n",
              "\n",
              "                                      title.rendered  \\\n",
              "0     Sam Bankman-Fried will not face a second trial   \n",
              "1  New York Times sues OpenAI, Microsoft for copy...   \n",
              "2  Elon Musk&#8217;s X fails to block California&...   \n",
              "3  China&#8217;s Xiaomi unveils first electric ca...   \n",
              "4  Apple can temporarily sell smartwatches after ...   \n",
              "\n",
              "                                    content.rendered  \\\n",
              "0  \\n<p>NEW YORK, USA – US prosecutors said they ...   \n",
              "1  \\n<p>MANILA, Philippines – The New York Times ...   \n",
              "2  \\n<p>Elon Musk&#8217;s X on Thursday, December...   \n",
              "3  \\n<p>BEIJING, China – Chinese smartphone maker...   \n",
              "4  \\n<p>Apple can for now resume sales of its fla...   \n",
              "\n",
              "                                    excerpt.rendered  \\\n",
              "0  <p>Prosecutors say the &#8216;strong public in...   \n",
              "1  <p>The New York Times&#8217; complaint says Op...   \n",
              "2  <p>The law requires social media companies wit...   \n",
              "3  <p>The sedan, dubbed the SU7, is a highly anti...   \n",
              "4  <p>Masimo has accused Apple of hiring away its...   \n",
              "\n",
              "                                                link                 date  \\\n",
              "0  https://www.rappler.com/technology/sam-bankman...  2023-12-30 11:00:00   \n",
              "1  https://www.rappler.com/technology/new-york-ti...  2023-12-29 15:12:14   \n",
              "2  https://www.rappler.com/technology/social-medi...  2023-12-29 14:16:24   \n",
              "3  https://www.rappler.com/technology/xiaomi-unve...  2023-12-28 16:59:26   \n",
              "4  https://www.rappler.com/technology/gadgets/app...  2023-12-28 09:53:24   \n",
              "\n",
              "              modified       categories  \\\n",
              "0  2023-12-30 19:57:19  [732, 768, 761]   \n",
              "1  2023-12-29 15:12:24            [732]   \n",
              "2  2023-12-29 14:16:28       [740, 732]   \n",
              "3  2023-12-28 16:59:28            [732]   \n",
              "4  2023-12-28 09:53:35       [738, 732]   \n",
              "\n",
              "                                              tokens  \\\n",
              "0  [Sam, Bankman-Fried, will, not, face, a, secon...   \n",
              "1  [New, York, Times, sues, OpenAI, ,, Microsoft,...   \n",
              "2  [Elon, Musk, &, #, 8217, ;, s, X, fails, to, b...   \n",
              "3  [China, &, #, 8217, ;, s, Xiaomi, unveils, fir...   \n",
              "4  [Apple, can, temporarily, sell, smartwatches, ...   \n",
              "\n",
              "                                 tokens_no_stopwords  \\\n",
              "0          [Sam, Bankman-Fried, face, second, trial]   \n",
              "1  [New, York, Times, sues, OpenAI, Microsoft, co...   \n",
              "2  [Elon, Musk, 8217, X, fails, block, California...   \n",
              "3  [China, 8217, Xiaomi, unveils, first, electric...   \n",
              "4  [Apple, temporarily, sell, smartwatches, US, a...   \n",
              "\n",
              "                                      stemmed_tokens  \\\n",
              "0            [sam, bankman-fri, face, second, trial]   \n",
              "1  [new, york, time, sue, openai, microsoft, copy...   \n",
              "2  [elon, musk, 8217, x, fail, block, california,...   \n",
              "3  [china, 8217, xiaomi, unveil, first, electr, c...   \n",
              "4  [appl, temporarili, sell, smartwatch, us, appe...   \n",
              "\n",
              "                                   lemmatized_tokens  \\\n",
              "0          [Sam, Bankman-Fried, face, second, trial]   \n",
              "1  [New, York, Times, sue, OpenAI, Microsoft, cop...   \n",
              "2  [Elon, Musk, 8217, X, fails, block, California...   \n",
              "3  [China, 8217, Xiaomi, unveils, first, electric...   \n",
              "4  [Apple, temporarily, sell, smartwatches, US, a...   \n",
              "\n",
              "                                        spacy_tokens  \\\n",
              "0  [Sam, Bankman, -, Fried, will, not, face, a, s...   \n",
              "1  [New, York, Times, sues, OpenAI, ,, Microsoft,...   \n",
              "2  [Elon, Musk&#8217;s, X, fails, to, block, Cali...   \n",
              "3  [China&#8217;s, Xiaomi, unveils, first, electr...   \n",
              "4  [Apple, can, temporarily, sell, smartwatches, ...   \n",
              "\n",
              "                           spacy_tokens_no_stopwords  \n",
              "0         [Sam, Bankman, Fried, face, second, trial]  \n",
              "1  [New, York, Times, sues, OpenAI, Microsoft, co...  \n",
              "2  [Elon, Musk&#8217;s, X, fails, block, Californ...  \n",
              "3  [China&#8217;s, Xiaomi, unveils, electric, car...  \n",
              "4  [Apple, temporarily, sell, smartwatches, appea...  "
            ]
          },
          "execution_count": null,
          "metadata": {},
          "output_type": "execute_result"
        }
      ],
      "source": [
        "# Define a function for noise removal\n",
        "def spacy_remove_stopwords_punctuation(tokens):\n",
        "    doc = spacy.tokens.Doc(nlp.vocab, words=tokens)\n",
        "    return [token.text for token in doc if not token.is_stop\n",
        "            and not token.is_punct]\n",
        "\n",
        "# Apply removal of stop words and punctuation\n",
        "df['spacy_tokens_no_stopwords'] = df['spacy_tokens'].apply(spacy_remove_stopwords_punctuation)\n",
        "df.head()"
      ]
    },
    {
      "cell_type": "markdown",
      "metadata": {
        "id": "EfC7qnF8Zhsq"
      },
      "source": [
        "### Lemmatization"
      ]
    },
    {
      "cell_type": "markdown",
      "metadata": {
        "id": "HsSLQ4ucZhsr"
      },
      "source": [
        "Converting words to their meaningful base form"
      ]
    },
    {
      "cell_type": "code",
      "execution_count": null,
      "metadata": {
        "id": "s5tX502uZhsr",
        "outputId": "e9848f61-90f4-4619-aabd-5d4d2fc2f491"
      },
      "outputs": [
        {
          "data": {
            "text/html": [
              "<div>\n",
              "<style scoped>\n",
              "    .dataframe tbody tr th:only-of-type {\n",
              "        vertical-align: middle;\n",
              "    }\n",
              "\n",
              "    .dataframe tbody tr th {\n",
              "        vertical-align: top;\n",
              "    }\n",
              "\n",
              "    .dataframe thead th {\n",
              "        text-align: right;\n",
              "    }\n",
              "</style>\n",
              "<table border=\"1\" class=\"dataframe\">\n",
              "  <thead>\n",
              "    <tr style=\"text-align: right;\">\n",
              "      <th></th>\n",
              "      <th>id</th>\n",
              "      <th>slug</th>\n",
              "      <th>title.rendered</th>\n",
              "      <th>content.rendered</th>\n",
              "      <th>excerpt.rendered</th>\n",
              "      <th>link</th>\n",
              "      <th>date</th>\n",
              "      <th>modified</th>\n",
              "      <th>categories</th>\n",
              "      <th>tokens</th>\n",
              "      <th>tokens_no_stopwords</th>\n",
              "      <th>stemmed_tokens</th>\n",
              "      <th>lemmatized_tokens</th>\n",
              "      <th>spacy_tokens</th>\n",
              "      <th>spacy_tokens_no_stopwords</th>\n",
              "      <th>spacy_lemmatized_tokens</th>\n",
              "    </tr>\n",
              "  </thead>\n",
              "  <tbody>\n",
              "    <tr>\n",
              "      <th>0</th>\n",
              "      <td>2577999</td>\n",
              "      <td>sam-bankman-fried-not-face-second-trial</td>\n",
              "      <td>Sam Bankman-Fried will not face a second trial</td>\n",
              "      <td>\\n&lt;p&gt;NEW YORK, USA – US prosecutors said they ...</td>\n",
              "      <td>&lt;p&gt;Prosecutors say the &amp;#8216;strong public in...</td>\n",
              "      <td>https://www.rappler.com/technology/sam-bankman...</td>\n",
              "      <td>2023-12-30 11:00:00</td>\n",
              "      <td>2023-12-30 19:57:19</td>\n",
              "      <td>[732, 768, 761]</td>\n",
              "      <td>[Sam, Bankman-Fried, will, not, face, a, secon...</td>\n",
              "      <td>[Sam, Bankman-Fried, face, second, trial]</td>\n",
              "      <td>[sam, bankman-fri, face, second, trial]</td>\n",
              "      <td>[Sam, Bankman-Fried, face, second, trial]</td>\n",
              "      <td>[Sam, Bankman, -, Fried, will, not, face, a, s...</td>\n",
              "      <td>[Sam, Bankman, Fried, face, second, trial]</td>\n",
              "      <td>[Sam, Bankman, Fried, face, second, trial]</td>\n",
              "    </tr>\n",
              "    <tr>\n",
              "      <th>1</th>\n",
              "      <td>2577486</td>\n",
              "      <td>new-york-times-sues-openai-microsoft-copyright...</td>\n",
              "      <td>New York Times sues OpenAI, Microsoft for copy...</td>\n",
              "      <td>\\n&lt;p&gt;MANILA, Philippines – The New York Times ...</td>\n",
              "      <td>&lt;p&gt;The New York Times&amp;#8217; complaint says Op...</td>\n",
              "      <td>https://www.rappler.com/technology/new-york-ti...</td>\n",
              "      <td>2023-12-29 15:12:14</td>\n",
              "      <td>2023-12-29 15:12:24</td>\n",
              "      <td>[732]</td>\n",
              "      <td>[New, York, Times, sues, OpenAI, ,, Microsoft,...</td>\n",
              "      <td>[New, York, Times, sues, OpenAI, Microsoft, co...</td>\n",
              "      <td>[new, york, time, sue, openai, microsoft, copy...</td>\n",
              "      <td>[New, York, Times, sue, OpenAI, Microsoft, cop...</td>\n",
              "      <td>[New, York, Times, sues, OpenAI, ,, Microsoft,...</td>\n",
              "      <td>[New, York, Times, sues, OpenAI, Microsoft, co...</td>\n",
              "      <td>[New, York, Times, sue, OpenAI, Microsoft, cop...</td>\n",
              "    </tr>\n",
              "    <tr>\n",
              "      <th>2</th>\n",
              "      <td>2577484</td>\n",
              "      <td>twitter-x-fails-block-california-content-moder...</td>\n",
              "      <td>Elon Musk&amp;#8217;s X fails to block California&amp;...</td>\n",
              "      <td>\\n&lt;p&gt;Elon Musk&amp;#8217;s X on Thursday, December...</td>\n",
              "      <td>&lt;p&gt;The law requires social media companies wit...</td>\n",
              "      <td>https://www.rappler.com/technology/social-medi...</td>\n",
              "      <td>2023-12-29 14:16:24</td>\n",
              "      <td>2023-12-29 14:16:28</td>\n",
              "      <td>[740, 732]</td>\n",
              "      <td>[Elon, Musk, &amp;, #, 8217, ;, s, X, fails, to, b...</td>\n",
              "      <td>[Elon, Musk, 8217, X, fails, block, California...</td>\n",
              "      <td>[elon, musk, 8217, x, fail, block, california,...</td>\n",
              "      <td>[Elon, Musk, 8217, X, fails, block, California...</td>\n",
              "      <td>[Elon, Musk&amp;#8217;s, X, fails, to, block, Cali...</td>\n",
              "      <td>[Elon, Musk&amp;#8217;s, X, fails, block, Californ...</td>\n",
              "      <td>[Elon, musk&amp;#8217;s, X, fail, block, californi...</td>\n",
              "    </tr>\n",
              "    <tr>\n",
              "      <th>3</th>\n",
              "      <td>2577149</td>\n",
              "      <td>xiaomi-unveils-first-electric-car-plans-become...</td>\n",
              "      <td>China&amp;#8217;s Xiaomi unveils first electric ca...</td>\n",
              "      <td>\\n&lt;p&gt;BEIJING, China – Chinese smartphone maker...</td>\n",
              "      <td>&lt;p&gt;The sedan, dubbed the SU7, is a highly anti...</td>\n",
              "      <td>https://www.rappler.com/technology/xiaomi-unve...</td>\n",
              "      <td>2023-12-28 16:59:26</td>\n",
              "      <td>2023-12-28 16:59:28</td>\n",
              "      <td>[732]</td>\n",
              "      <td>[China, &amp;, #, 8217, ;, s, Xiaomi, unveils, fir...</td>\n",
              "      <td>[China, 8217, Xiaomi, unveils, first, electric...</td>\n",
              "      <td>[china, 8217, xiaomi, unveil, first, electr, c...</td>\n",
              "      <td>[China, 8217, Xiaomi, unveils, first, electric...</td>\n",
              "      <td>[China&amp;#8217;s, Xiaomi, unveils, first, electr...</td>\n",
              "      <td>[China&amp;#8217;s, Xiaomi, unveils, electric, car...</td>\n",
              "      <td>[China&amp;#8217;s, Xiaomi, unveil, electric, car,...</td>\n",
              "    </tr>\n",
              "    <tr>\n",
              "      <th>4</th>\n",
              "      <td>2576906</td>\n",
              "      <td>apple-can-temporarily-sell-smartwatches-after-...</td>\n",
              "      <td>Apple can temporarily sell smartwatches after ...</td>\n",
              "      <td>\\n&lt;p&gt;Apple can for now resume sales of its fla...</td>\n",
              "      <td>&lt;p&gt;Masimo has accused Apple of hiring away its...</td>\n",
              "      <td>https://www.rappler.com/technology/gadgets/app...</td>\n",
              "      <td>2023-12-28 09:53:24</td>\n",
              "      <td>2023-12-28 09:53:35</td>\n",
              "      <td>[738, 732]</td>\n",
              "      <td>[Apple, can, temporarily, sell, smartwatches, ...</td>\n",
              "      <td>[Apple, temporarily, sell, smartwatches, US, a...</td>\n",
              "      <td>[appl, temporarili, sell, smartwatch, us, appe...</td>\n",
              "      <td>[Apple, temporarily, sell, smartwatches, US, a...</td>\n",
              "      <td>[Apple, can, temporarily, sell, smartwatches, ...</td>\n",
              "      <td>[Apple, temporarily, sell, smartwatches, appea...</td>\n",
              "      <td>[Apple, temporarily, sell, smartwatche, appeal...</td>\n",
              "    </tr>\n",
              "  </tbody>\n",
              "</table>\n",
              "</div>"
            ],
            "text/plain": [
              "        id                                               slug  \\\n",
              "0  2577999            sam-bankman-fried-not-face-second-trial   \n",
              "1  2577486  new-york-times-sues-openai-microsoft-copyright...   \n",
              "2  2577484  twitter-x-fails-block-california-content-moder...   \n",
              "3  2577149  xiaomi-unveils-first-electric-car-plans-become...   \n",
              "4  2576906  apple-can-temporarily-sell-smartwatches-after-...   \n",
              "\n",
              "                                      title.rendered  \\\n",
              "0     Sam Bankman-Fried will not face a second trial   \n",
              "1  New York Times sues OpenAI, Microsoft for copy...   \n",
              "2  Elon Musk&#8217;s X fails to block California&...   \n",
              "3  China&#8217;s Xiaomi unveils first electric ca...   \n",
              "4  Apple can temporarily sell smartwatches after ...   \n",
              "\n",
              "                                    content.rendered  \\\n",
              "0  \\n<p>NEW YORK, USA – US prosecutors said they ...   \n",
              "1  \\n<p>MANILA, Philippines – The New York Times ...   \n",
              "2  \\n<p>Elon Musk&#8217;s X on Thursday, December...   \n",
              "3  \\n<p>BEIJING, China – Chinese smartphone maker...   \n",
              "4  \\n<p>Apple can for now resume sales of its fla...   \n",
              "\n",
              "                                    excerpt.rendered  \\\n",
              "0  <p>Prosecutors say the &#8216;strong public in...   \n",
              "1  <p>The New York Times&#8217; complaint says Op...   \n",
              "2  <p>The law requires social media companies wit...   \n",
              "3  <p>The sedan, dubbed the SU7, is a highly anti...   \n",
              "4  <p>Masimo has accused Apple of hiring away its...   \n",
              "\n",
              "                                                link                 date  \\\n",
              "0  https://www.rappler.com/technology/sam-bankman...  2023-12-30 11:00:00   \n",
              "1  https://www.rappler.com/technology/new-york-ti...  2023-12-29 15:12:14   \n",
              "2  https://www.rappler.com/technology/social-medi...  2023-12-29 14:16:24   \n",
              "3  https://www.rappler.com/technology/xiaomi-unve...  2023-12-28 16:59:26   \n",
              "4  https://www.rappler.com/technology/gadgets/app...  2023-12-28 09:53:24   \n",
              "\n",
              "              modified       categories  \\\n",
              "0  2023-12-30 19:57:19  [732, 768, 761]   \n",
              "1  2023-12-29 15:12:24            [732]   \n",
              "2  2023-12-29 14:16:28       [740, 732]   \n",
              "3  2023-12-28 16:59:28            [732]   \n",
              "4  2023-12-28 09:53:35       [738, 732]   \n",
              "\n",
              "                                              tokens  \\\n",
              "0  [Sam, Bankman-Fried, will, not, face, a, secon...   \n",
              "1  [New, York, Times, sues, OpenAI, ,, Microsoft,...   \n",
              "2  [Elon, Musk, &, #, 8217, ;, s, X, fails, to, b...   \n",
              "3  [China, &, #, 8217, ;, s, Xiaomi, unveils, fir...   \n",
              "4  [Apple, can, temporarily, sell, smartwatches, ...   \n",
              "\n",
              "                                 tokens_no_stopwords  \\\n",
              "0          [Sam, Bankman-Fried, face, second, trial]   \n",
              "1  [New, York, Times, sues, OpenAI, Microsoft, co...   \n",
              "2  [Elon, Musk, 8217, X, fails, block, California...   \n",
              "3  [China, 8217, Xiaomi, unveils, first, electric...   \n",
              "4  [Apple, temporarily, sell, smartwatches, US, a...   \n",
              "\n",
              "                                      stemmed_tokens  \\\n",
              "0            [sam, bankman-fri, face, second, trial]   \n",
              "1  [new, york, time, sue, openai, microsoft, copy...   \n",
              "2  [elon, musk, 8217, x, fail, block, california,...   \n",
              "3  [china, 8217, xiaomi, unveil, first, electr, c...   \n",
              "4  [appl, temporarili, sell, smartwatch, us, appe...   \n",
              "\n",
              "                                   lemmatized_tokens  \\\n",
              "0          [Sam, Bankman-Fried, face, second, trial]   \n",
              "1  [New, York, Times, sue, OpenAI, Microsoft, cop...   \n",
              "2  [Elon, Musk, 8217, X, fails, block, California...   \n",
              "3  [China, 8217, Xiaomi, unveils, first, electric...   \n",
              "4  [Apple, temporarily, sell, smartwatches, US, a...   \n",
              "\n",
              "                                        spacy_tokens  \\\n",
              "0  [Sam, Bankman, -, Fried, will, not, face, a, s...   \n",
              "1  [New, York, Times, sues, OpenAI, ,, Microsoft,...   \n",
              "2  [Elon, Musk&#8217;s, X, fails, to, block, Cali...   \n",
              "3  [China&#8217;s, Xiaomi, unveils, first, electr...   \n",
              "4  [Apple, can, temporarily, sell, smartwatches, ...   \n",
              "\n",
              "                           spacy_tokens_no_stopwords  \\\n",
              "0         [Sam, Bankman, Fried, face, second, trial]   \n",
              "1  [New, York, Times, sues, OpenAI, Microsoft, co...   \n",
              "2  [Elon, Musk&#8217;s, X, fails, block, Californ...   \n",
              "3  [China&#8217;s, Xiaomi, unveils, electric, car...   \n",
              "4  [Apple, temporarily, sell, smartwatches, appea...   \n",
              "\n",
              "                             spacy_lemmatized_tokens  \n",
              "0         [Sam, Bankman, Fried, face, second, trial]  \n",
              "1  [New, York, Times, sue, OpenAI, Microsoft, cop...  \n",
              "2  [Elon, musk&#8217;s, X, fail, block, californi...  \n",
              "3  [China&#8217;s, Xiaomi, unveil, electric, car,...  \n",
              "4  [Apple, temporarily, sell, smartwatche, appeal...  "
            ]
          },
          "execution_count": null,
          "metadata": {},
          "output_type": "execute_result"
        }
      ],
      "source": [
        "# Define a function for lemmatization\n",
        "def spacy_lemmatize_tokens(tokens):\n",
        "    doc = nlp(' '.join(tokens))\n",
        "    return [token.lemma_ for token in doc]\n",
        "\n",
        "# Apply lemmatization\n",
        "df['spacy_lemmatized_tokens'] = (\n",
        "    df['spacy_tokens_no_stopwords'].apply(spacy_lemmatize_tokens)\n",
        ")\n",
        "\n",
        "df.head()"
      ]
    },
    {
      "cell_type": "markdown",
      "metadata": {
        "id": "zE53r0j3Zhss"
      },
      "source": [
        "Let's compare the original word, stemmed word (using NLTK), and lemmatized word (using SpaCy) for the same set of sample words"
      ]
    },
    {
      "cell_type": "code",
      "execution_count": null,
      "metadata": {
        "id": "cQKE-XOzZhss",
        "outputId": "ed217b12-ff4b-4de2-cf9a-9bba681a492e"
      },
      "outputs": [
        {
          "data": {
            "text/html": [
              "<div>\n",
              "<style scoped>\n",
              "    .dataframe tbody tr th:only-of-type {\n",
              "        vertical-align: middle;\n",
              "    }\n",
              "\n",
              "    .dataframe tbody tr th {\n",
              "        vertical-align: top;\n",
              "    }\n",
              "\n",
              "    .dataframe thead th {\n",
              "        text-align: right;\n",
              "    }\n",
              "</style>\n",
              "<table border=\"1\" class=\"dataframe\">\n",
              "  <thead>\n",
              "    <tr style=\"text-align: right;\">\n",
              "      <th></th>\n",
              "      <th>Original Word</th>\n",
              "      <th>Lemmatized Word (NLTK)</th>\n",
              "      <th>Lemmatized Word (SpaCy)</th>\n",
              "    </tr>\n",
              "  </thead>\n",
              "  <tbody>\n",
              "    <tr>\n",
              "      <th>0</th>\n",
              "      <td>running</td>\n",
              "      <td>running</td>\n",
              "      <td>run</td>\n",
              "    </tr>\n",
              "    <tr>\n",
              "      <th>1</th>\n",
              "      <td>flies</td>\n",
              "      <td>fly</td>\n",
              "      <td>fly</td>\n",
              "    </tr>\n",
              "    <tr>\n",
              "      <th>2</th>\n",
              "      <td>denying</td>\n",
              "      <td>denying</td>\n",
              "      <td>deny</td>\n",
              "    </tr>\n",
              "  </tbody>\n",
              "</table>\n",
              "</div>"
            ],
            "text/plain": [
              "  Original Word Lemmatized Word (NLTK) Lemmatized Word (SpaCy)\n",
              "0       running                running                     run\n",
              "1         flies                    fly                     fly\n",
              "2       denying                denying                    deny"
            ]
          },
          "execution_count": null,
          "metadata": {},
          "output_type": "execute_result"
        }
      ],
      "source": [
        "sample_words = [\"running\", \"flies\", \"denying\"]\n",
        "\n",
        "lemmatized_words_nltk = [lemmatizer.lemmatize(word)\n",
        "                    for word in sample_words] # get_wordnet_pos(word)\n",
        "\n",
        "lemmatized_words_spacy = [nlp(word)[0].lemma_ for word in sample_words]\n",
        "\n",
        "pd.DataFrame({'Original Word': sample_words,\n",
        "              'Lemmatized Word (NLTK)': lemmatized_words_nltk,\n",
        "              'Lemmatized Word (SpaCy)': lemmatized_words_spacy})"
      ]
    },
    {
      "cell_type": "markdown",
      "metadata": {
        "id": "2UubD_SVZhss"
      },
      "source": [
        "## Exercise: NLTK and SpaCy Tokenization Outcomes\n",
        "\n",
        "**Instructions**\n",
        "* Compare the number of tokens generated by NLTK and SpaCy for the same set of titles and analyze any differences.\n",
        "* Compare the distribution of token counts.\n",
        "    - Calculate the average number of tokens per title for both NLTK and SpaCy tokenization.\n",
        "    - Plot a bar graph showing the average number of tokens for NLTK vs. SpaCy.\n",
        "* Analyze differences observed and possible reasons for them.\n",
        "    - Check differences in tokens before and after noise removal for both NLTK and SpaCy.\n",
        "* **Key output for sharing after breakout:** Three (3) observations from NTLK vs SpaCy outcomes for each group"
      ]
    },
    {
      "cell_type": "code",
      "execution_count": null,
      "metadata": {
        "id": "fi1KngXaZhss"
      },
      "outputs": [],
      "source": [
        "import matplotlib.pyplot as plt\n",
        "import seaborn as sns\n",
        "from collections import Counter\n",
        "\n",
        "import warnings\n",
        "warnings.filterwarnings('ignore')"
      ]
    },
    {
      "cell_type": "markdown",
      "metadata": {
        "id": "TOvvM4ytZhs7"
      },
      "source": [
        "### NLTK"
      ]
    },
    {
      "cell_type": "code",
      "execution_count": null,
      "metadata": {
        "id": "hoxYwR34Zhs7",
        "outputId": "54dd8dbd-9120-4722-ad1e-2243a252928b"
      },
      "outputs": [
        {
          "data": {
            "image/png": "[encoded data removed]",
            "text/plain": [
              "<Figure size 640x480 with 1 Axes>"
            ]
          },
          "metadata": {},
          "output_type": "display_data"
        }
      ],
      "source": [
        "token_lengths = df['tokens'].apply(len)\n",
        "sns.histplot(token_lengths, bins=50, kde=True)\n",
        "plt.title('Distribution of Token Counts')\n",
        "plt.xlabel('Number of Tokens')\n",
        "plt.ylabel('Number of Stories')\n",
        "plt.show()"
      ]
    },
    {
      "cell_type": "code",
      "execution_count": null,
      "metadata": {
        "id": "te_je2y1Zhs7",
        "outputId": "94c96292-b62c-4103-f017-fba40d8646af"
      },
      "outputs": [
        {
          "data": {
            "text/plain": [
              "[(';', 2090),\n",
              " ('#', 2084),\n",
              " ('&', 2071),\n",
              " ('to', 1672),\n",
              " (',', 1557),\n",
              " ('8217', 1385),\n",
              " ('in', 933),\n",
              " ('s', 810),\n",
              " ('of', 714),\n",
              " ('for', 694),\n",
              " ('8216', 648),\n",
              " ('on', 617),\n",
              " (':', 558),\n",
              " ('Facebook', 515),\n",
              " ('–', 490),\n",
              " ('US', 436),\n",
              " ('Twitter', 413),\n",
              " ('the', 409),\n",
              " ('’', 326),\n",
              " ('says', 322)]"
            ]
          },
          "execution_count": null,
          "metadata": {},
          "output_type": "execute_result"
        }
      ],
      "source": [
        "nltk_word_count = Counter(df['tokens'].explode().tolist())\n",
        "nltk_word_count.most_common(20)"
      ]
    },
    {
      "cell_type": "code",
      "execution_count": null,
      "metadata": {
        "id": "B90k3HXbZhs8",
        "outputId": "88e8b9b8-1a8f-440d-b610-cd54bc06c098"
      },
      "outputs": [
        {
          "data": {
            "text/plain": [
              "[('8217', 1385),\n",
              " ('8216', 648),\n",
              " ('Facebook', 515),\n",
              " ('–', 490),\n",
              " ('US', 436),\n",
              " ('Twitter', 413),\n",
              " ('’', 326),\n",
              " ('says', 322),\n",
              " ('Google', 311),\n",
              " ('AI', 255),\n",
              " ('Apple', 240),\n",
              " ('new', 217),\n",
              " ('Musk', 209),\n",
              " ('TikTok', 183),\n",
              " ('China', 180),\n",
              " ('data', 161),\n",
              " ('media', 153),\n",
              " ('Microsoft', 146),\n",
              " ('tech', 144),\n",
              " ('report', 144)]"
            ]
          },
          "execution_count": null,
          "metadata": {},
          "output_type": "execute_result"
        }
      ],
      "source": [
        "nltk_word_count_no_stopwords = Counter(\n",
        "    df['tokens_no_stopwords'].explode().tolist()\n",
        ")\n",
        "\n",
        "nltk_word_count_no_stopwords.most_common(20)"
      ]
    },
    {
      "cell_type": "markdown",
      "metadata": {
        "id": "QtYQgQQ0Zhs8"
      },
      "source": [
        "### SpaCy"
      ]
    },
    {
      "cell_type": "code",
      "execution_count": null,
      "metadata": {
        "id": "RONGooQMZhs8",
        "outputId": "1bebe9b4-69f4-4df4-be49-41eeab153bd7"
      },
      "outputs": [
        {
          "data": {
            "image/png": "[encoded data removed]",
            "text/plain": [
              "<Figure size 640x480 with 1 Axes>"
            ]
          },
          "metadata": {},
          "output_type": "display_data"
        }
      ],
      "source": [
        "token_lengths_spacy = df['spacy_tokens'].apply(len)\n",
        "sns.histplot(token_lengths_spacy, bins=50, kde=True)\n",
        "plt.title('Distribution of Token Counts with SpaCy')\n",
        "plt.xlabel('Number of Tokens')\n",
        "plt.ylabel('Number of Stories')\n",
        "plt.show()"
      ]
    },
    {
      "cell_type": "code",
      "execution_count": null,
      "metadata": {
        "id": "usP6S971Zhs8",
        "outputId": "fe0fad00-3375-43d7-b1b7-08ce4ab1dc48"
      },
      "outputs": [
        {
          "data": {
            "text/plain": [
              "[('to', 1677),\n",
              " (',', 1525),\n",
              " ('in', 943),\n",
              " ('-', 865),\n",
              " (';', 729),\n",
              " ('of', 717),\n",
              " ('for', 697),\n",
              " ('#', 677),\n",
              " ('&', 665),\n",
              " ('on', 630),\n",
              " (':', 557),\n",
              " ('–', 498),\n",
              " ('Facebook', 491),\n",
              " ('US', 447),\n",
              " ('the', 411),\n",
              " ('Twitter', 396),\n",
              " ('says', 322),\n",
              " ('Google', 296),\n",
              " ('with', 290),\n",
              " ('AI', 285)]"
            ]
          },
          "execution_count": null,
          "metadata": {},
          "output_type": "execute_result"
        }
      ],
      "source": [
        "spacy_word_count = Counter(df['spacy_tokens'].explode().tolist())\n",
        "spacy_word_count.most_common(20)"
      ]
    },
    {
      "cell_type": "code",
      "execution_count": null,
      "metadata": {
        "id": "Pusy4oXmZhs8",
        "outputId": "5d8a9d9b-2b95-4ea4-e0d2-12cc82e2ffe7"
      },
      "outputs": [
        {
          "data": {
            "text/plain": [
              "[('Facebook', 491),\n",
              " ('Twitter', 396),\n",
              " ('says', 322),\n",
              " ('Google', 296),\n",
              " ('AI', 285),\n",
              " ('$', 262),\n",
              " ('new', 221),\n",
              " ('Apple', 215),\n",
              " ('TikTok', 180),\n",
              " ('Musk', 178),\n",
              " ('\\xa0', 164),\n",
              " ('data', 162),\n",
              " ('China', 151),\n",
              " ('media', 150),\n",
              " ('report', 145),\n",
              " ('tech', 142),\n",
              " ('Microsoft', 138),\n",
              " ('5', 132),\n",
              " ('EU', 124),\n",
              " ('app', 122)]"
            ]
          },
          "execution_count": null,
          "metadata": {},
          "output_type": "execute_result"
        }
      ],
      "source": [
        "spacy_word_count_no_stopwords = Counter(\n",
        "    df['spacy_tokens_no_stopwords'].explode().tolist()\n",
        ")\n",
        "\n",
        "spacy_word_count_no_stopwords.most_common(20)"
      ]
    },
    {
      "cell_type": "markdown",
      "metadata": {
        "id": "XnC7YXFIZhs9"
      },
      "source": [
        "### Comparison"
      ]
    },
    {
      "cell_type": "code",
      "execution_count": null,
      "metadata": {
        "id": "kWyPlkenZhs9",
        "outputId": "a773d65d-92c6-4454-ef14-31ae9ff0a98f"
      },
      "outputs": [
        {
          "data": {
            "image/png": "[encoded data removed]",
            "text/plain": [
              "<Figure size 800x600 with 1 Axes>"
            ]
          },
          "metadata": {},
          "output_type": "display_data"
        }
      ],
      "source": [
        "avg_tokens_nltk = token_lengths.mean()\n",
        "avg_tokens_spacy = token_lengths_spacy.mean()\n",
        "\n",
        "plt.figure(figsize=(8, 6))\n",
        "plt.bar(['NLTK', 'SpaCy'], [avg_tokens_nltk, avg_tokens_spacy])\n",
        "plt.title('Average Number of Tokens: NLTK vs. SpaCy')\n",
        "plt.ylabel('Average Number of Tokens')\n",
        "plt.show()"
      ]
    }
  ],
  "metadata": {
    "kernelspec": {
      "display_name": "python3",
      "language": "python",
      "name": "python3"
    },
    "colab": {
      "provenance": []
    }
  },
  "nbformat": 4,
  "nbformat_minor": 0
}